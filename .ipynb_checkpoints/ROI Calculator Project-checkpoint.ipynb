{
 "cells": [
  {
   "cell_type": "code",
   "execution_count": null,
   "id": "debe72a1",
   "metadata": {},
   "outputs": [],
   "source": [
    "class Income:\n",
    "\n",
    "    def __init__(self, income, laundry, storage, misc_income):\n",
    "        self.income = income\n",
    "        self.laundry = laundry\n",
    "        self.storage = storage\n",
    "        self.misc_income = misc_income\n",
    "\n",
    "    def calculate_income(self, income, laundry, storage, misc_income):\n",
    "        if income is not None:\n",
    "            calculate_income += income\n",
    "            if laundry is not None:\n",
    "                calculate_income += laundry\n",
    "                if storage is not None:\n",
    "                    calculate_income += storage\n",
    "                    if misc_income is not None:\n",
    "                        calculate_income += misc_income\n",
    "\n",
    "\n",
    "# class ExpensesPerMonth:\n",
    "#     def __init__(self, tax, insurance, utilities, other_expenses):\n",
    "#         self.tax = tax\n",
    "#         self.insurance = insurance\n",
    "#         self.utilities = utilities\n",
    "#         self.other_expenses = other_expenses\n",
    "\n",
    "\n",
    "# class CashFlow:\n",
    "#     def __init__(self, monthly_profit):\n",
    "#         self.monthly_profit = monthly_profit\n",
    "\n",
    "\n",
    "# class ROI:\n",
    "#     def __init__(self, down_payment, costs):\n",
    "#         self.down_payment = down_payment\n",
    "#         self.costs = costs"
   ]
  },
  {
   "cell_type": "code",
   "execution_count": null,
   "id": "52b4ed71",
   "metadata": {},
   "outputs": [],
   "source": [
    "class Calculate:\n",
    "    while True:\n",
    "        print(\"Welcome to Bigger Pockets Return on Investment Calculator\")"
   ]
  }
 ],
 "metadata": {
  "kernelspec": {
   "display_name": "Python 3 (ipykernel)",
   "language": "python",
   "name": "python3"
  },
  "language_info": {
   "codemirror_mode": {
    "name": "ipython",
    "version": 3
   },
   "file_extension": ".py",
   "mimetype": "text/x-python",
   "name": "python",
   "nbconvert_exporter": "python",
   "pygments_lexer": "ipython3",
   "version": "3.9.12"
  }
 },
 "nbformat": 4,
 "nbformat_minor": 5
}
